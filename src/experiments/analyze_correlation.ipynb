{
 "cells": [
  {
   "cell_type": "code",
   "execution_count": null,
   "metadata": {},
   "outputs": [],
   "source": [
    "import os\n",
    "import numpy as np\n",
    "import matplotlib.pyplot as plt\n",
    "import scipy.stats as stats"
   ]
  },
  {
   "cell_type": "code",
   "execution_count": null,
   "metadata": {},
   "outputs": [],
   "source": [
    "psnr_file = \"../ANALYZE/EUNAF_EDSRx2_bl_x2_nb16_nf64_st2/Set14RGB/psnr_Set14RGB.npy\"\n",
    "ssim_file = \"../ANALYZE/EUNAF_EDSRx2_bl_x2_nb16_nf64_st2/Set14RGB/ssim_Set14RGB.npy\"\n",
    "unc_file = \"../ANALYZE/EUNAF_EDSRx2_bl_x2_nb16_nf64_st2/Set14RGB/unc_Set14RGB.npy\""
   ]
  }
 ],
 "metadata": {
  "language_info": {
   "name": "python"
  }
 },
 "nbformat": 4,
 "nbformat_minor": 2
}
